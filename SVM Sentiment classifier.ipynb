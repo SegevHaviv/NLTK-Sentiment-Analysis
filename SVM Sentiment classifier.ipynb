{
 "cells": [
  {
   "cell_type": "code",
   "execution_count": 1,
   "metadata": {},
   "outputs": [],
   "source": [
    "import pandas as pd\n",
    "import numpy as np\n",
    "from sklearn import svm\n",
    "import nltk\n",
    "import matplotlib.pyplot as plt\n",
    "%matplotlib inline\n",
    "import pickle\n",
    "import os"
   ]
  },
  {
   "cell_type": "code",
   "execution_count": 2,
   "metadata": {},
   "outputs": [],
   "source": [
    "svm_path = \"SVM_model_acc_89_C10.pkl\" # vectorizer path\n",
    "vectorizer_path = \"vectorizer_89_acc_C10.pkl\" # SVM model path"
   ]
  },
  {
   "cell_type": "code",
   "execution_count": 3,
   "metadata": {},
   "outputs": [],
   "source": [
    "def LoadSvmModel(path):\n",
    "    return pickle.load(open(path, \"rb\" ))\n",
    "\n",
    "def LoadVectorizer(path):\n",
    "    return pickle.load(open(path, \"rb\" ))\n",
    "\n",
    "def ClassifyReviews(reviews,model,tfidf):\n",
    "    pred = []\n",
    "    \n",
    "    for review in reviews:\n",
    "        review = tfidf.transform(review)\n",
    "        ans = model.predict(review)\n",
    "        if ans == 1:\n",
    "            pred.append(\"Positive\")\n",
    "        else:\n",
    "            pred.append(\"Negative\")\n",
    "    return pred"
   ]
  },
  {
   "cell_type": "code",
   "execution_count": 4,
   "metadata": {},
   "outputs": [],
   "source": [
    "model = LoadSvmModel(svm_path)\n",
    "vectotizer = LoadVectorizer(vectorizer_path)"
   ]
  },
  {
   "cell_type": "markdown",
   "metadata": {},
   "source": [
    "# Let's test it on Deadpool  (IMDB reviwes)\n",
    "\n",
    "\n",
    "<b>1)  \n",
    "    \n",
    "Negative review : 1/10</b>\n",
    "\n",
    "\"C\" class movie that have only cheap jokes.... it have same plot which we already watched 100 times.... nothing special but the wastage of time.... I think there will be no squeal of this and if there is, i m not going to watch that crap again.... and I don't understand why they were talking about ---- after every 3-4 scene... they were trying to convince the people that we are not any less then A class movie ---- or any other marvels comic characters.... people who saw that movie can sue them and they have to ask there money back.... as the worst movie of the decade .... so much F****** words i ever see in a single movie.... best for those who are so frustrated.... never saw any movie that have this much over exaggeration...\n",
    "\n",
    "<b>2)  \n",
    "    \n",
    "Positive review : 9/10</b>\n",
    "\n",
    "Based on the Marvel Comics character of the same name. It is the eighth installment in the X-Men film series. It follows Wade Wilson who, after being subjected to an experiment that leaves him with new abilities, hunts down the man who nearly destroyed his life.\n",
    "\n",
    "From the studio that inexplicably sewed his *beep* mouth shut the first time, comes... Deadpool. It may not have been the superhero that Hollywood wanted, but he's certainly the one they deserve. After years of speculation as to whether or not everyones favourite anti-superhero would actually get made into a standalone picture, Tim Miller's Deadpool has arrived. Do not let the February release date fool you, this is very much the film that both fans of the character and Ryan Reynolds have been waiting for. Full of comedic snark and constant fourth wall breaks (and Inception style fourth wall breaks within those), it delivers every bit upon its promise, a truly entertaining ride from start to finish. Minutes into opening credits, you are gracefully dropped into the self-aware world of the film, with notable credits such as \"directed by an overpaid tool,\" and \"produced by *beep*hats.\" If that does not sell you on what kind of comedy Deadpool brings to the table, then you can always catch a screening of Zoolander 2 next door. When it comes down to it, Deadpool is one part vendetta film, one part romantic tale a la \"Beauty and the Beast\" style. This is the role that Ryan Reynolds were born to play. It's been a passion project for the actor for many years, and it shows. He is to the Deadpool franchise (the sequel were already planned ahead of its release) what Robert Downey Jr. is to Iron Man. You cannot imagine anyone else possibly playing the role. Erased from memory is the X-Men Origins: Wolverine version that Reynolds played in 2009. What a relief. The tie-in to the world of X-Men is somewhat limited aside from the inclusion of Colossus and Negasonic Teenage Warhead. I will not saying more. At the end of the day, Deadpool's re-watch factor is sky high, possibly the most important success of them all. I'm touching myself tonight.\n",
    "\n",
    "\n",
    "<b>3)  \n",
    "\n",
    "Positive review : 9/10</b>\n",
    "\n",
    "Hooo boy! The year has barely started and already we have shots fired. In the battle to earn your comic book movie love (And dollars) Marvel has come charging out of the gate. After a dearth of comic book films last year Deadpool comes out swinging giving us a reason to love the summer again and it ain't even March. The film begins with an ambitious opening scene, the credits of which, perfectly set the tone of the movie from the get-go: funny, irreverent and self-aware. Marvel appears to have adopted a doctrine of making their films be entertaining (Imagine that!) above any other concerns and Deadpool seems to be a culmination of that philosophy. It is a testament to the skill and commitment of Marvel and the makers that they can get so much mileage out of one second tier character, and half the budget, than other companies can with four first rate ones, fantastic or otherwise. (Way to redeem yourself 20th Century Fox!) Not bad for a character that was a created as a joke. (For the non-initiated, Deadpool started life as a blatant clone of Deathstroke, a character from DC Comics, Marvel's main competitor.)\n",
    "\n",
    "In all this the film is aided in great part by a crackling script that never lets up. Whereas too many action movies treat the scenes between set pieces as filler packed with exposition and the occasional comic relief, Deadpool deftly weaves between wise- cracking slapstick, violent acrobatics and scenes of serious peril with effortless ease. The result of all of this is a movie that is engaging throughout whether featuring profane, brilliant banter or graphical, bloody shootouts. For the film wears that R rating proudly with enough sex and violent to make Paul Verhoeven get all misty-eyed. It is not surprise there is already a sequel in the works.\n",
    "\n",
    "Another revelation here is Reynolds himself who in Deadpool seems to have found his Iron Man, a character so indelibly linked to the actor that plays him that you cannot imagine anyone else playing him. And his work here acts as vindication of that whole Wolverine debacle which we won't mention ever again. But the secret ingredient in the Deadpool stew is geek heroine Morena Baccarin, who, besides being cute as a button brings the acting chops honed in fan favorites like Gotham and Firefly or even as the darnest adorable reptilian alien ever in the short-lived \"V\" reboot. Baccarin has the perfect easy-going confidence to match Reynold's sardonic bravado and their superb and convincing on-screen chemistry provides the impetus for Deadpool's heroic arc.\n",
    "\n",
    "For despite all the foul language, gore and masturbation jokes, this is a story that is surprisingly tender. It turns out it wasn't just a marketing gimmick and, Deadpool, really is a love story. To be sure, one with more severed body parts than your average love yarn but a love story nonetheless. Starting a new franchise is always risky and studios hate taking risks. Whatever your stance on comic books is, the fact remains this movie should not have been this good. The writers and director have shown what can be achieved with bold writing and an unapologetic attitude, and, more importantly, that comic book movies need not be made for kids to be enjoyable or, indeed, successful. Here's to hoping that trend will continue. Hopefully Hollywood will take notice.\n",
    "\n",
    "Parent's Brief\n",
    "\n",
    "Rated: R Running Time: 108 minutes On Sex and Violence: Plenty of both. There is graphic violence of the gratuitous kind. People get shot in all kinds of places and I mean their bodies not exotic locations. Limbs get bloodily cut off. A lot of foul language which I don't mind but I'm not here to judge. Deadpool and his love interest get into some vigorous love making and elsewhere there is some brief frontal nudity. Boobies. Boobies are shown. So yeah. Don't take the kids.\n",
    "\n",
    "\n",
    "\n",
    "\n",
    "<b>4)  \n",
    "\n",
    "Negative review : 1/10</b>\n",
    "\n",
    "First time in a theater since 2005...Walked Out 27 minutes in!!! This is not my Deadpool!!! Seems they were more concerned with the \"4th wall\" and sales instead of continuity. This Hurts!!! I had conversations with people about how I felt DC was winning against Marvel because of realism versus being campy. My argument remains and most likely will stay the same after March 25. This Film is a poor attempt to take the greatness and diversity of a character such as DP and make him an Everyman. You can take some characters and make them relate-able(spell check) but DP is not that guy!!! I never saw grit...instead I saw Ryan Reynolds...I never saw insanity...instead I saw Childish Humor...I never saw a movable character...instead I saw a Meme!!! Unfortunately this is the worst of the Marvel Films ever (To Me) and it was made not for us (Comic Lovers) and the people that see our passion and can only relate through film but for the \"Sheeople\" who like the sensation of hype.\n",
    "\n",
    "Thank You!!!"
   ]
  },
  {
   "cell_type": "code",
   "execution_count": 59,
   "metadata": {},
   "outputs": [
    {
     "name": "stdout",
     "output_type": "stream",
     "text": [
      "Predict rev 1 : Negative\n",
      "Predict rev 2 : Positive\n",
      "Predict rev 3 : Positive\n",
      "Predict rev 4 : Negative\n"
     ]
    }
   ],
   "source": [
    "rev1 =[\"'C' class movie that have only cheap jokes.... it have same plot which we already watched 100 times.... nothing special but the wastage of time.... I think there will be no squeal of this and if there is, i m not going to watch that crap again.... and I don't understand why they were talking about ---- after every 3-4 scene... they were trying to convince the people that we are not any less then A class movie ---- or any other marvels comic characters.... people who saw that movie can sue them and they have to ask there money back.... as the worst movie of the decade .... so much F** words i ever see in a single movie.... best for those who are so frustrated.... never saw any movie that have this much over exaggeration... \"]\n",
    "\n",
    "rev2 = [\"Based on the Marvel Comics character of the same name. It is the eighth installment in the X-Men film series. It follows Wade Wilson who, after being subjected to an experiment that leaves him with new abilities, hunts down the man who nearly destroyed his life.From the studio that inexplicably sewed his beep mouth shut the first time, comes... Deadpool. It may not have been the superhero that Hollywood wanted, but he's certainly the one they deserve. After years of speculation as to whether or not everyones favourite anti-superhero would actually get made into a standalone picture, Tim Miller's Deadpool has arrived. Do not let the February release date fool you, this is very much the film that both fans of the character and Ryan Reynolds have been waiting for. Full of comedic snark and constant fourth wall breaks (and Inception style fourth wall breaks within those), it delivers every bit upon its promise, a truly entertaining ride from start to finish. Minutes into opening credits, you are gracefully dropped into the self-aware world of the film, with notable credits such as \"\"directed by an overpaid tool,\"\" and \"\"produced by beephats.\"\" If that does not sell you on what kind of comedy Deadpool brings to the table, then you can always catch a screening of Zoolander 2 next door. When it comes down to it, Deadpool is one part vendetta film, one part romantic tale a la \"\"Beauty and the Beast\"\" style. This is the role that Ryan Reynolds were born to play. It's been a passion project for the actor for many years, and it shows. He is to the Deadpool franchise (the sequel were already planned ahead of its release) what Robert Downey Jr. is to Iron Man. You cannot imagine anyone else possibly playing the role. Erased from memory is the X-Men Origins: Wolverine version that Reynolds played in 2009. What a relief. The tie-in to the world of X-Men is somewhat limited aside from the inclusion of Colossus and Negasonic Teenage Warhead. I will not saying more. At the end of the day, Deadpool's re-watch factor is sky high, possibly the most important success of them all. I'm touching myself tonight.\"]\n",
    "\n",
    "rev3 = [\"Hooo boy! The year has barely started and already we have shots fired. In the battle to earn your comic book movie love (And dollars) Marvel has come charging out of the gate. After a dearth of comic book films last year Deadpool comes out swinging giving us a reason to love the summer again and it ain't even March. The film begins with an ambitious opening scene, the credits of which, perfectly set the tone of the movie from the get-go: funny, irreverent and self-aware. Marvel appears to have adopted a doctrine of making their films be entertaining (Imagine that!) above any other concerns and Deadpool seems to be a culmination of that philosophy. It is a testament to the skill and commitment of Marvel and the makers that they can get so much mileage out of one second tier character, and half the budget, than other companies can with four first rate ones, fantastic or otherwise. (Way to redeem yourself 20th Century Fox!) Not bad for a character that was a created as a joke. (For the non-initiated, Deadpool started life as a blatant clone of Deathstroke, a character from DC Comics, Marvel's main competitor.) In all this the film is aided in great part by a crackling script that never lets up. Whereas too many action movies treat the scenes between set pieces as filler packed with exposition and the occasional comic relief, Deadpool deftly weaves between wise- cracking slapstick, violent acrobatics and scenes of serious peril with effortless ease. The result of all of this is a movie that is engaging throughout whether featuring profane, brilliant banter or graphical, bloody shootouts. For the film wears that R rating proudly with enough sex and violent to make Paul Verhoeven get all misty-eyed. It is not surprise there is already a sequel in the works. Another revelation here is Reynolds himself who in Deadpool seems to have found his Iron Man, a character so indelibly linked to the actor that plays him that you cannot imagine anyone else playing him. And his work here acts as vindication of that whole Wolverine debacle which we won't mention ever again. But the secret ingredient in the Deadpool stew is geek heroine Morena Baccarin, who, besides being cute as a button brings the acting chops honed in fan favorites like Gotham and Firefly or even as the darnest adorable reptilian alien ever in the short-lived \"\"V\"\" reboot. Baccarin has the perfect easy-going confidence to match Reynold's sardonic bravado and their superb and convincing on-screen chemistry provides the impetus for Deadpool's heroic arc. For despite all the foul language, gore and masturbation jokes, this is a story that is surprisingly tender. It turns out it wasn't just a marketing gimmick and, Deadpool, really is a love story. To be sure, one with more severed body parts than your average love yarn but a love story nonetheless. Starting a new franchise is always risky and studios hate taking risks. Whatever your stance on comic books is, the fact remains this movie should not have been this good. The writers and director have shown what can be achieved with bold writing and an unapologetic attitude, and, more importantly, that comic book movies need not be made for kids to be enjoyable or, indeed, successful. Here's to hoping that trend will continue. Hopefully Hollywood will take notice. Parent's Brief Rated: R Running Time: 108 minutes On Sex and Violence: Plenty of both. There is graphic violence of the gratuitous kind. People get shot in all kinds of places and I mean their bodies not exotic locations. Limbs get bloodily cut off. A lot of foul language which I don't mind but I'm not here to judge. Deadpool and his love interest get into some vigorous love making and elsewhere there is some brief frontal nudity. Boobies. Boobies are shown. So yeah. Don't take the kids. \"]\n",
    "\n",
    "rev4 = [\"First time in a theater since 2005...Walked Out 27 minutes in!!! This is not my Deadpool!!! Seems they were more concerned with the \"\"4th wall\"\" and sales instead of continuity. This Hurts!!! I had conversations with people about how I felt DC was winning against Marvel because of realism versus being campy. My argument remains and most likely will stay the same after March 25. This Film is a poor attempt to take the greatness and diversity of a character such as DP and make him an Everyman. You can take some characters and make them relate-able(spell check) but DP is not that guy!!! I never saw grit...instead I saw Ryan Reynolds...I never saw insanity...instead I saw Childish Humor...I never saw a movable character...instead I saw a Meme!!! Unfortunately this is the worst of the Marvel Films ever (To Me) and it was made not for us (Comic Lovers) and the people that see our passion and can only relate through film but for the \"\"Sheeople\"\" who like the sensation of hype. Thank You!!!\"]\n",
    "\n",
    "reviwes =[rev1,rev2,rev3,rev4]\n",
    "\n",
    "ans = ClassifyReviews(reviwes,model,vectotizer)\n",
    "\n",
    "for i in range (len(reviwes)):\n",
    "    print(\"Predict rev \"+str(i+1)+ \" : \"+ans[i])"
   ]
  }
 ],
 "metadata": {
  "kernelspec": {
   "display_name": "Python 3",
   "language": "python",
   "name": "python3"
  },
  "language_info": {
   "codemirror_mode": {
    "name": "ipython",
    "version": 3.0
   },
   "file_extension": ".py",
   "mimetype": "text/x-python",
   "name": "python",
   "nbconvert_exporter": "python",
   "pygments_lexer": "ipython3",
   "version": "3.5.4"
  }
 },
 "nbformat": 4,
 "nbformat_minor": 0
}